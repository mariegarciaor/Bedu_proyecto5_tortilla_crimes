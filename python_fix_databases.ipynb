{
  "nbformat": 4,
  "nbformat_minor": 0,
  "metadata": {
    "colab": {
      "provenance": [],
      "authorship_tag": "ABX9TyN9qBtDzIYIi0kj60e2Zc6P",
      "include_colab_link": true
    },
    "kernelspec": {
      "name": "python3",
      "display_name": "Python 3"
    },
    "language_info": {
      "name": "python"
    }
  },
  "cells": [
    {
      "cell_type": "markdown",
      "metadata": {
        "id": "view-in-github",
        "colab_type": "text"
      },
      "source": [
        "<a href=\"https://colab.research.google.com/github/mariegarciaor/bedu_proyecto_5/blob/main/python_fix_databases.ipynb\" target=\"_parent\"><img src=\"https://colab.research.google.com/assets/colab-badge.svg\" alt=\"Open In Colab\"/></a>"
      ]
    },
    {
      "cell_type": "code",
      "source": [
        "# Abre el archivo CSV y lee su contenido con codificación UTF-8\n",
        "with open('/content/tortilla_prices_2015-23_modificado.csv', 'r', encoding='utf-8') as archivo_entrada:\n",
        "    contenido = archivo_entrada.read()\n",
        "\n",
        "# Reemplaza el carácter de espacio no separable con un espacio normal y maneja otros caracteres especiales\n",
        "contenido_modificado = contenido.replace('\\u00A0', ' ').replace('á', 'a').replace('é', 'e').replace('í', 'i').replace('ó', 'o').replace('ú', 'u').replace('ñ', 'n').replace('Ñ', 'N')\n",
        "\n",
        "# Guarda el contenido modificado en un nuevo archivo CSV con codificación UTF-8\n",
        "with open('/content/tortilla_prices_2015-23_new.csv', 'w', encoding='utf-8') as archivo_salida:\n",
        "    archivo_salida.write(contenido_modificado)\n"
      ],
      "metadata": {
        "id": "aAyFcZrf06N2"
      },
      "execution_count": null,
      "outputs": []
    },
    {
      "cell_type": "code",
      "source": [
        "import pandas as pd\n",
        "\n",
        "# Cargar el archivo CSV\n",
        "file_path = '/content/mexico_crime_new.csv'\n",
        "data = pd.read_csv(file_path)\n",
        "\n",
        "# Contar el número de filas\n",
        "num_rows = len(data)\n",
        "num_rows"
      ],
      "metadata": {
        "colab": {
          "base_uri": "https://localhost:8080/"
        },
        "id": "o1ccGYpiFIDs",
        "outputId": "632978e5-45e8-465b-efa7-7a0efe864956"
      },
      "execution_count": null,
      "outputs": [
        {
          "output_type": "execute_result",
          "data": {
            "text/plain": [
              "332416"
            ]
          },
          "metadata": {},
          "execution_count": 9
        }
      ]
    },
    {
      "cell_type": "code",
      "source": [
        "# Leer el archivo CSV con la codificación adecuada\n",
        "file_path = '/content/mexico_crime_new.csv'\n",
        "data = pd.read_csv(file_path, encoding='utf-8')\n",
        "\n",
        "# Guardar el archivo CSV con la codificación correcta (si es necesario)\n",
        "# Si la codificación ya es UTF-8, no es necesario guardar de nuevo el archivo\n",
        "data.to_csv('/content/mexico_crime_new_2.csv', encoding='utf-8', index=False)"
      ],
      "metadata": {
        "id": "BdhbPAiOFqaG"
      },
      "execution_count": null,
      "outputs": []
    },
    {
      "cell_type": "code",
      "source": [
        "# Cargar el archivo CSV\n",
        "file_path = '/content/mexico_crime_new.csv'\n",
        "data = pd.read_csv(file_path)\n",
        "\n",
        "# Contar el número de filas\n",
        "num_rows = len(data)\n",
        "num_rows"
      ],
      "metadata": {
        "colab": {
          "base_uri": "https://localhost:8080/"
        },
        "id": "VIFjT4c7WJ5P",
        "outputId": "f4f11872-5f48-4b50-c624-c5ef33e49481"
      },
      "execution_count": null,
      "outputs": [
        {
          "output_type": "execute_result",
          "data": {
            "text/plain": [
              "332416"
            ]
          },
          "metadata": {},
          "execution_count": 12
        }
      ]
    }
  ]
}